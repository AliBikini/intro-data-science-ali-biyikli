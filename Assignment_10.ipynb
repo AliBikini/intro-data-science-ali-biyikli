{
 "cells": [
  {
   "cell_type": "code",
   "execution_count": 1,
   "metadata": {},
   "outputs": [],
   "source": [
    "import pandas as pd\n",
    "import numpy as np"
   ]
  },
  {
   "cell_type": "code",
   "execution_count": 2,
   "metadata": {},
   "outputs": [],
   "source": [
    "sales = pd.read_csv('Datasets/gameSales2016.csv', sep=',')"
   ]
  },
  {
   "cell_type": "code",
   "execution_count": 3,
   "metadata": {},
   "outputs": [
    {
     "data": {
      "text/html": [
       "<style  type=\"text/css\" >\n",
       "#T_c80e73ab_81ec_11eb_9b6f_18c04d3d4ff4row0_col0,#T_c80e73ab_81ec_11eb_9b6f_18c04d3d4ff4row1_col1,#T_c80e73ab_81ec_11eb_9b6f_18c04d3d4ff4row2_col2,#T_c80e73ab_81ec_11eb_9b6f_18c04d3d4ff4row3_col3,#T_c80e73ab_81ec_11eb_9b6f_18c04d3d4ff4row4_col4,#T_c80e73ab_81ec_11eb_9b6f_18c04d3d4ff4row5_col5,#T_c80e73ab_81ec_11eb_9b6f_18c04d3d4ff4row6_col6,#T_c80e73ab_81ec_11eb_9b6f_18c04d3d4ff4row7_col7,#T_c80e73ab_81ec_11eb_9b6f_18c04d3d4ff4row8_col8{\n",
       "            background-color:  #b40426;\n",
       "            color:  #f1f1f1;\n",
       "        }#T_c80e73ab_81ec_11eb_9b6f_18c04d3d4ff4row0_col1,#T_c80e73ab_81ec_11eb_9b6f_18c04d3d4ff4row1_col0{\n",
       "            background-color:  #4e68d8;\n",
       "            color:  #000000;\n",
       "        }#T_c80e73ab_81ec_11eb_9b6f_18c04d3d4ff4row0_col2,#T_c80e73ab_81ec_11eb_9b6f_18c04d3d4ff4row2_col0{\n",
       "            background-color:  #688aef;\n",
       "            color:  #000000;\n",
       "        }#T_c80e73ab_81ec_11eb_9b6f_18c04d3d4ff4row0_col3,#T_c80e73ab_81ec_11eb_9b6f_18c04d3d4ff4row3_col0{\n",
       "            background-color:  #3b4cc0;\n",
       "            color:  #f1f1f1;\n",
       "        }#T_c80e73ab_81ec_11eb_9b6f_18c04d3d4ff4row0_col4,#T_c80e73ab_81ec_11eb_9b6f_18c04d3d4ff4row4_col0{\n",
       "            background-color:  #7396f5;\n",
       "            color:  #000000;\n",
       "        }#T_c80e73ab_81ec_11eb_9b6f_18c04d3d4ff4row0_col5,#T_c80e73ab_81ec_11eb_9b6f_18c04d3d4ff4row5_col0{\n",
       "            background-color:  #536edd;\n",
       "            color:  #000000;\n",
       "        }#T_c80e73ab_81ec_11eb_9b6f_18c04d3d4ff4row0_col6,#T_c80e73ab_81ec_11eb_9b6f_18c04d3d4ff4row6_col0{\n",
       "            background-color:  #6b8df0;\n",
       "            color:  #000000;\n",
       "        }#T_c80e73ab_81ec_11eb_9b6f_18c04d3d4ff4row0_col7,#T_c80e73ab_81ec_11eb_9b6f_18c04d3d4ff4row2_col6,#T_c80e73ab_81ec_11eb_9b6f_18c04d3d4ff4row6_col2,#T_c80e73ab_81ec_11eb_9b6f_18c04d3d4ff4row7_col0{\n",
       "            background-color:  #aac7fd;\n",
       "            color:  #000000;\n",
       "        }#T_c80e73ab_81ec_11eb_9b6f_18c04d3d4ff4row0_col8,#T_c80e73ab_81ec_11eb_9b6f_18c04d3d4ff4row8_col0{\n",
       "            background-color:  #9dbdff;\n",
       "            color:  #000000;\n",
       "        }#T_c80e73ab_81ec_11eb_9b6f_18c04d3d4ff4row1_col2,#T_c80e73ab_81ec_11eb_9b6f_18c04d3d4ff4row2_col1{\n",
       "            background-color:  #ee8468;\n",
       "            color:  #000000;\n",
       "        }#T_c80e73ab_81ec_11eb_9b6f_18c04d3d4ff4row1_col3,#T_c80e73ab_81ec_11eb_9b6f_18c04d3d4ff4row3_col1{\n",
       "            background-color:  #e4d9d2;\n",
       "            color:  #000000;\n",
       "        }#T_c80e73ab_81ec_11eb_9b6f_18c04d3d4ff4row1_col4,#T_c80e73ab_81ec_11eb_9b6f_18c04d3d4ff4row4_col1{\n",
       "            background-color:  #f7b093;\n",
       "            color:  #000000;\n",
       "        }#T_c80e73ab_81ec_11eb_9b6f_18c04d3d4ff4row1_col5,#T_c80e73ab_81ec_11eb_9b6f_18c04d3d4ff4row5_col1{\n",
       "            background-color:  #c53334;\n",
       "            color:  #f1f1f1;\n",
       "        }#T_c80e73ab_81ec_11eb_9b6f_18c04d3d4ff4row1_col6,#T_c80e73ab_81ec_11eb_9b6f_18c04d3d4ff4row4_col8,#T_c80e73ab_81ec_11eb_9b6f_18c04d3d4ff4row6_col1,#T_c80e73ab_81ec_11eb_9b6f_18c04d3d4ff4row8_col4{\n",
       "            background-color:  #afcafc;\n",
       "            color:  #000000;\n",
       "        }#T_c80e73ab_81ec_11eb_9b6f_18c04d3d4ff4row1_col7,#T_c80e73ab_81ec_11eb_9b6f_18c04d3d4ff4row7_col1{\n",
       "            background-color:  #bfd3f6;\n",
       "            color:  #000000;\n",
       "        }#T_c80e73ab_81ec_11eb_9b6f_18c04d3d4ff4row1_col8,#T_c80e73ab_81ec_11eb_9b6f_18c04d3d4ff4row5_col6,#T_c80e73ab_81ec_11eb_9b6f_18c04d3d4ff4row6_col5,#T_c80e73ab_81ec_11eb_9b6f_18c04d3d4ff4row8_col1{\n",
       "            background-color:  #b1cbfc;\n",
       "            color:  #000000;\n",
       "        }#T_c80e73ab_81ec_11eb_9b6f_18c04d3d4ff4row2_col3,#T_c80e73ab_81ec_11eb_9b6f_18c04d3d4ff4row3_col2{\n",
       "            background-color:  #e1dad6;\n",
       "            color:  #000000;\n",
       "        }#T_c80e73ab_81ec_11eb_9b6f_18c04d3d4ff4row2_col4,#T_c80e73ab_81ec_11eb_9b6f_18c04d3d4ff4row4_col2{\n",
       "            background-color:  #f39475;\n",
       "            color:  #000000;\n",
       "        }#T_c80e73ab_81ec_11eb_9b6f_18c04d3d4ff4row2_col5,#T_c80e73ab_81ec_11eb_9b6f_18c04d3d4ff4row5_col2{\n",
       "            background-color:  #d1493f;\n",
       "            color:  #f1f1f1;\n",
       "        }#T_c80e73ab_81ec_11eb_9b6f_18c04d3d4ff4row2_col7,#T_c80e73ab_81ec_11eb_9b6f_18c04d3d4ff4row7_col2{\n",
       "            background-color:  #bad0f8;\n",
       "            color:  #000000;\n",
       "        }#T_c80e73ab_81ec_11eb_9b6f_18c04d3d4ff4row2_col8,#T_c80e73ab_81ec_11eb_9b6f_18c04d3d4ff4row8_col2{\n",
       "            background-color:  #bbd1f8;\n",
       "            color:  #000000;\n",
       "        }#T_c80e73ab_81ec_11eb_9b6f_18c04d3d4ff4row3_col4,#T_c80e73ab_81ec_11eb_9b6f_18c04d3d4ff4row4_col3{\n",
       "            background-color:  #bed2f6;\n",
       "            color:  #000000;\n",
       "        }#T_c80e73ab_81ec_11eb_9b6f_18c04d3d4ff4row3_col5,#T_c80e73ab_81ec_11eb_9b6f_18c04d3d4ff4row5_col3{\n",
       "            background-color:  #f7b79b;\n",
       "            color:  #000000;\n",
       "        }#T_c80e73ab_81ec_11eb_9b6f_18c04d3d4ff4row3_col6,#T_c80e73ab_81ec_11eb_9b6f_18c04d3d4ff4row6_col3{\n",
       "            background-color:  #96b7ff;\n",
       "            color:  #000000;\n",
       "        }#T_c80e73ab_81ec_11eb_9b6f_18c04d3d4ff4row3_col7,#T_c80e73ab_81ec_11eb_9b6f_18c04d3d4ff4row7_col3{\n",
       "            background-color:  #9ebeff;\n",
       "            color:  #000000;\n",
       "        }#T_c80e73ab_81ec_11eb_9b6f_18c04d3d4ff4row3_col8,#T_c80e73ab_81ec_11eb_9b6f_18c04d3d4ff4row8_col3{\n",
       "            background-color:  #7ea1fa;\n",
       "            color:  #000000;\n",
       "        }#T_c80e73ab_81ec_11eb_9b6f_18c04d3d4ff4row4_col5,#T_c80e73ab_81ec_11eb_9b6f_18c04d3d4ff4row5_col4{\n",
       "            background-color:  #f08a6c;\n",
       "            color:  #000000;\n",
       "        }#T_c80e73ab_81ec_11eb_9b6f_18c04d3d4ff4row4_col6,#T_c80e73ab_81ec_11eb_9b6f_18c04d3d4ff4row6_col4{\n",
       "            background-color:  #a3c2fe;\n",
       "            color:  #000000;\n",
       "        }#T_c80e73ab_81ec_11eb_9b6f_18c04d3d4ff4row4_col7,#T_c80e73ab_81ec_11eb_9b6f_18c04d3d4ff4row7_col4{\n",
       "            background-color:  #b3cdfb;\n",
       "            color:  #000000;\n",
       "        }#T_c80e73ab_81ec_11eb_9b6f_18c04d3d4ff4row5_col7,#T_c80e73ab_81ec_11eb_9b6f_18c04d3d4ff4row7_col5{\n",
       "            background-color:  #c1d4f4;\n",
       "            color:  #000000;\n",
       "        }#T_c80e73ab_81ec_11eb_9b6f_18c04d3d4ff4row5_col8,#T_c80e73ab_81ec_11eb_9b6f_18c04d3d4ff4row6_col8,#T_c80e73ab_81ec_11eb_9b6f_18c04d3d4ff4row8_col5,#T_c80e73ab_81ec_11eb_9b6f_18c04d3d4ff4row8_col6{\n",
       "            background-color:  #b6cefa;\n",
       "            color:  #000000;\n",
       "        }#T_c80e73ab_81ec_11eb_9b6f_18c04d3d4ff4row6_col7,#T_c80e73ab_81ec_11eb_9b6f_18c04d3d4ff4row7_col6{\n",
       "            background-color:  #dfdbd9;\n",
       "            color:  #000000;\n",
       "        }#T_c80e73ab_81ec_11eb_9b6f_18c04d3d4ff4row7_col8,#T_c80e73ab_81ec_11eb_9b6f_18c04d3d4ff4row8_col7{\n",
       "            background-color:  #d1dae9;\n",
       "            color:  #000000;\n",
       "        }</style><table id=\"T_c80e73ab_81ec_11eb_9b6f_18c04d3d4ff4\" ><thead>    <tr>        <th class=\"blank level0\" ></th>        <th class=\"col_heading level0 col0\" >Year_of_Release</th>        <th class=\"col_heading level0 col1\" >NA_Sales</th>        <th class=\"col_heading level0 col2\" >EU_Sales</th>        <th class=\"col_heading level0 col3\" >JP_Sales</th>        <th class=\"col_heading level0 col4\" >Other_Sales</th>        <th class=\"col_heading level0 col5\" >Global_Sales</th>        <th class=\"col_heading level0 col6\" >Critic_Score</th>        <th class=\"col_heading level0 col7\" >Critic_Count</th>        <th class=\"col_heading level0 col8\" >User_Count</th>    </tr></thead><tbody>\n",
       "                <tr>\n",
       "                        <th id=\"T_c80e73ab_81ec_11eb_9b6f_18c04d3d4ff4level0_row0\" class=\"row_heading level0 row0\" >Year_of_Release</th>\n",
       "                        <td id=\"T_c80e73ab_81ec_11eb_9b6f_18c04d3d4ff4row0_col0\" class=\"data row0 col0\" >1.00</td>\n",
       "                        <td id=\"T_c80e73ab_81ec_11eb_9b6f_18c04d3d4ff4row0_col1\" class=\"data row0 col1\" >-0.09</td>\n",
       "                        <td id=\"T_c80e73ab_81ec_11eb_9b6f_18c04d3d4ff4row0_col2\" class=\"data row0 col2\" >0.00</td>\n",
       "                        <td id=\"T_c80e73ab_81ec_11eb_9b6f_18c04d3d4ff4row0_col3\" class=\"data row0 col3\" >-0.17</td>\n",
       "                        <td id=\"T_c80e73ab_81ec_11eb_9b6f_18c04d3d4ff4row0_col4\" class=\"data row0 col4\" >0.04</td>\n",
       "                        <td id=\"T_c80e73ab_81ec_11eb_9b6f_18c04d3d4ff4row0_col5\" class=\"data row0 col5\" >-0.08</td>\n",
       "                        <td id=\"T_c80e73ab_81ec_11eb_9b6f_18c04d3d4ff4row0_col6\" class=\"data row0 col6\" >0.01</td>\n",
       "                        <td id=\"T_c80e73ab_81ec_11eb_9b6f_18c04d3d4ff4row0_col7\" class=\"data row0 col7\" >0.22</td>\n",
       "                        <td id=\"T_c80e73ab_81ec_11eb_9b6f_18c04d3d4ff4row0_col8\" class=\"data row0 col8\" >0.18</td>\n",
       "            </tr>\n",
       "            <tr>\n",
       "                        <th id=\"T_c80e73ab_81ec_11eb_9b6f_18c04d3d4ff4level0_row1\" class=\"row_heading level0 row1\" >NA_Sales</th>\n",
       "                        <td id=\"T_c80e73ab_81ec_11eb_9b6f_18c04d3d4ff4row1_col0\" class=\"data row1 col0\" >-0.09</td>\n",
       "                        <td id=\"T_c80e73ab_81ec_11eb_9b6f_18c04d3d4ff4row1_col1\" class=\"data row1 col1\" >1.00</td>\n",
       "                        <td id=\"T_c80e73ab_81ec_11eb_9b6f_18c04d3d4ff4row1_col2\" class=\"data row1 col2\" >0.77</td>\n",
       "                        <td id=\"T_c80e73ab_81ec_11eb_9b6f_18c04d3d4ff4row1_col3\" class=\"data row1 col3\" >0.45</td>\n",
       "                        <td id=\"T_c80e73ab_81ec_11eb_9b6f_18c04d3d4ff4row1_col4\" class=\"data row1 col4\" >0.64</td>\n",
       "                        <td id=\"T_c80e73ab_81ec_11eb_9b6f_18c04d3d4ff4row1_col5\" class=\"data row1 col5\" >0.94</td>\n",
       "                        <td id=\"T_c80e73ab_81ec_11eb_9b6f_18c04d3d4ff4row1_col6\" class=\"data row1 col6\" >0.24</td>\n",
       "                        <td id=\"T_c80e73ab_81ec_11eb_9b6f_18c04d3d4ff4row1_col7\" class=\"data row1 col7\" >0.30</td>\n",
       "                        <td id=\"T_c80e73ab_81ec_11eb_9b6f_18c04d3d4ff4row1_col8\" class=\"data row1 col8\" >0.25</td>\n",
       "            </tr>\n",
       "            <tr>\n",
       "                        <th id=\"T_c80e73ab_81ec_11eb_9b6f_18c04d3d4ff4level0_row2\" class=\"row_heading level0 row2\" >EU_Sales</th>\n",
       "                        <td id=\"T_c80e73ab_81ec_11eb_9b6f_18c04d3d4ff4row2_col0\" class=\"data row2 col0\" >0.00</td>\n",
       "                        <td id=\"T_c80e73ab_81ec_11eb_9b6f_18c04d3d4ff4row2_col1\" class=\"data row2 col1\" >0.77</td>\n",
       "                        <td id=\"T_c80e73ab_81ec_11eb_9b6f_18c04d3d4ff4row2_col2\" class=\"data row2 col2\" >1.00</td>\n",
       "                        <td id=\"T_c80e73ab_81ec_11eb_9b6f_18c04d3d4ff4row2_col3\" class=\"data row2 col3\" >0.44</td>\n",
       "                        <td id=\"T_c80e73ab_81ec_11eb_9b6f_18c04d3d4ff4row2_col4\" class=\"data row2 col4\" >0.72</td>\n",
       "                        <td id=\"T_c80e73ab_81ec_11eb_9b6f_18c04d3d4ff4row2_col5\" class=\"data row2 col5\" >0.90</td>\n",
       "                        <td id=\"T_c80e73ab_81ec_11eb_9b6f_18c04d3d4ff4row2_col6\" class=\"data row2 col6\" >0.22</td>\n",
       "                        <td id=\"T_c80e73ab_81ec_11eb_9b6f_18c04d3d4ff4row2_col7\" class=\"data row2 col7\" >0.28</td>\n",
       "                        <td id=\"T_c80e73ab_81ec_11eb_9b6f_18c04d3d4ff4row2_col8\" class=\"data row2 col8\" >0.28</td>\n",
       "            </tr>\n",
       "            <tr>\n",
       "                        <th id=\"T_c80e73ab_81ec_11eb_9b6f_18c04d3d4ff4level0_row3\" class=\"row_heading level0 row3\" >JP_Sales</th>\n",
       "                        <td id=\"T_c80e73ab_81ec_11eb_9b6f_18c04d3d4ff4row3_col0\" class=\"data row3 col0\" >-0.17</td>\n",
       "                        <td id=\"T_c80e73ab_81ec_11eb_9b6f_18c04d3d4ff4row3_col1\" class=\"data row3 col1\" >0.45</td>\n",
       "                        <td id=\"T_c80e73ab_81ec_11eb_9b6f_18c04d3d4ff4row3_col2\" class=\"data row3 col2\" >0.44</td>\n",
       "                        <td id=\"T_c80e73ab_81ec_11eb_9b6f_18c04d3d4ff4row3_col3\" class=\"data row3 col3\" >1.00</td>\n",
       "                        <td id=\"T_c80e73ab_81ec_11eb_9b6f_18c04d3d4ff4row3_col4\" class=\"data row3 col4\" >0.29</td>\n",
       "                        <td id=\"T_c80e73ab_81ec_11eb_9b6f_18c04d3d4ff4row3_col5\" class=\"data row3 col5\" >0.61</td>\n",
       "                        <td id=\"T_c80e73ab_81ec_11eb_9b6f_18c04d3d4ff4row3_col6\" class=\"data row3 col6\" >0.15</td>\n",
       "                        <td id=\"T_c80e73ab_81ec_11eb_9b6f_18c04d3d4ff4row3_col7\" class=\"data row3 col7\" >0.18</td>\n",
       "                        <td id=\"T_c80e73ab_81ec_11eb_9b6f_18c04d3d4ff4row3_col8\" class=\"data row3 col8\" >0.08</td>\n",
       "            </tr>\n",
       "            <tr>\n",
       "                        <th id=\"T_c80e73ab_81ec_11eb_9b6f_18c04d3d4ff4level0_row4\" class=\"row_heading level0 row4\" >Other_Sales</th>\n",
       "                        <td id=\"T_c80e73ab_81ec_11eb_9b6f_18c04d3d4ff4row4_col0\" class=\"data row4 col0\" >0.04</td>\n",
       "                        <td id=\"T_c80e73ab_81ec_11eb_9b6f_18c04d3d4ff4row4_col1\" class=\"data row4 col1\" >0.64</td>\n",
       "                        <td id=\"T_c80e73ab_81ec_11eb_9b6f_18c04d3d4ff4row4_col2\" class=\"data row4 col2\" >0.72</td>\n",
       "                        <td id=\"T_c80e73ab_81ec_11eb_9b6f_18c04d3d4ff4row4_col3\" class=\"data row4 col3\" >0.29</td>\n",
       "                        <td id=\"T_c80e73ab_81ec_11eb_9b6f_18c04d3d4ff4row4_col4\" class=\"data row4 col4\" >1.00</td>\n",
       "                        <td id=\"T_c80e73ab_81ec_11eb_9b6f_18c04d3d4ff4row4_col5\" class=\"data row4 col5\" >0.75</td>\n",
       "                        <td id=\"T_c80e73ab_81ec_11eb_9b6f_18c04d3d4ff4row4_col6\" class=\"data row4 col6\" >0.20</td>\n",
       "                        <td id=\"T_c80e73ab_81ec_11eb_9b6f_18c04d3d4ff4row4_col7\" class=\"data row4 col7\" >0.25</td>\n",
       "                        <td id=\"T_c80e73ab_81ec_11eb_9b6f_18c04d3d4ff4row4_col8\" class=\"data row4 col8\" >0.24</td>\n",
       "            </tr>\n",
       "            <tr>\n",
       "                        <th id=\"T_c80e73ab_81ec_11eb_9b6f_18c04d3d4ff4level0_row5\" class=\"row_heading level0 row5\" >Global_Sales</th>\n",
       "                        <td id=\"T_c80e73ab_81ec_11eb_9b6f_18c04d3d4ff4row5_col0\" class=\"data row5 col0\" >-0.08</td>\n",
       "                        <td id=\"T_c80e73ab_81ec_11eb_9b6f_18c04d3d4ff4row5_col1\" class=\"data row5 col1\" >0.94</td>\n",
       "                        <td id=\"T_c80e73ab_81ec_11eb_9b6f_18c04d3d4ff4row5_col2\" class=\"data row5 col2\" >0.90</td>\n",
       "                        <td id=\"T_c80e73ab_81ec_11eb_9b6f_18c04d3d4ff4row5_col3\" class=\"data row5 col3\" >0.61</td>\n",
       "                        <td id=\"T_c80e73ab_81ec_11eb_9b6f_18c04d3d4ff4row5_col4\" class=\"data row5 col4\" >0.75</td>\n",
       "                        <td id=\"T_c80e73ab_81ec_11eb_9b6f_18c04d3d4ff4row5_col5\" class=\"data row5 col5\" >1.00</td>\n",
       "                        <td id=\"T_c80e73ab_81ec_11eb_9b6f_18c04d3d4ff4row5_col6\" class=\"data row5 col6\" >0.25</td>\n",
       "                        <td id=\"T_c80e73ab_81ec_11eb_9b6f_18c04d3d4ff4row5_col7\" class=\"data row5 col7\" >0.30</td>\n",
       "                        <td id=\"T_c80e73ab_81ec_11eb_9b6f_18c04d3d4ff4row5_col8\" class=\"data row5 col8\" >0.27</td>\n",
       "            </tr>\n",
       "            <tr>\n",
       "                        <th id=\"T_c80e73ab_81ec_11eb_9b6f_18c04d3d4ff4level0_row6\" class=\"row_heading level0 row6\" >Critic_Score</th>\n",
       "                        <td id=\"T_c80e73ab_81ec_11eb_9b6f_18c04d3d4ff4row6_col0\" class=\"data row6 col0\" >0.01</td>\n",
       "                        <td id=\"T_c80e73ab_81ec_11eb_9b6f_18c04d3d4ff4row6_col1\" class=\"data row6 col1\" >0.24</td>\n",
       "                        <td id=\"T_c80e73ab_81ec_11eb_9b6f_18c04d3d4ff4row6_col2\" class=\"data row6 col2\" >0.22</td>\n",
       "                        <td id=\"T_c80e73ab_81ec_11eb_9b6f_18c04d3d4ff4row6_col3\" class=\"data row6 col3\" >0.15</td>\n",
       "                        <td id=\"T_c80e73ab_81ec_11eb_9b6f_18c04d3d4ff4row6_col4\" class=\"data row6 col4\" >0.20</td>\n",
       "                        <td id=\"T_c80e73ab_81ec_11eb_9b6f_18c04d3d4ff4row6_col5\" class=\"data row6 col5\" >0.25</td>\n",
       "                        <td id=\"T_c80e73ab_81ec_11eb_9b6f_18c04d3d4ff4row6_col6\" class=\"data row6 col6\" >1.00</td>\n",
       "                        <td id=\"T_c80e73ab_81ec_11eb_9b6f_18c04d3d4ff4row6_col7\" class=\"data row6 col7\" >0.43</td>\n",
       "                        <td id=\"T_c80e73ab_81ec_11eb_9b6f_18c04d3d4ff4row6_col8\" class=\"data row6 col8\" >0.26</td>\n",
       "            </tr>\n",
       "            <tr>\n",
       "                        <th id=\"T_c80e73ab_81ec_11eb_9b6f_18c04d3d4ff4level0_row7\" class=\"row_heading level0 row7\" >Critic_Count</th>\n",
       "                        <td id=\"T_c80e73ab_81ec_11eb_9b6f_18c04d3d4ff4row7_col0\" class=\"data row7 col0\" >0.22</td>\n",
       "                        <td id=\"T_c80e73ab_81ec_11eb_9b6f_18c04d3d4ff4row7_col1\" class=\"data row7 col1\" >0.30</td>\n",
       "                        <td id=\"T_c80e73ab_81ec_11eb_9b6f_18c04d3d4ff4row7_col2\" class=\"data row7 col2\" >0.28</td>\n",
       "                        <td id=\"T_c80e73ab_81ec_11eb_9b6f_18c04d3d4ff4row7_col3\" class=\"data row7 col3\" >0.18</td>\n",
       "                        <td id=\"T_c80e73ab_81ec_11eb_9b6f_18c04d3d4ff4row7_col4\" class=\"data row7 col4\" >0.25</td>\n",
       "                        <td id=\"T_c80e73ab_81ec_11eb_9b6f_18c04d3d4ff4row7_col5\" class=\"data row7 col5\" >0.30</td>\n",
       "                        <td id=\"T_c80e73ab_81ec_11eb_9b6f_18c04d3d4ff4row7_col6\" class=\"data row7 col6\" >0.43</td>\n",
       "                        <td id=\"T_c80e73ab_81ec_11eb_9b6f_18c04d3d4ff4row7_col7\" class=\"data row7 col7\" >1.00</td>\n",
       "                        <td id=\"T_c80e73ab_81ec_11eb_9b6f_18c04d3d4ff4row7_col8\" class=\"data row7 col8\" >0.36</td>\n",
       "            </tr>\n",
       "            <tr>\n",
       "                        <th id=\"T_c80e73ab_81ec_11eb_9b6f_18c04d3d4ff4level0_row8\" class=\"row_heading level0 row8\" >User_Count</th>\n",
       "                        <td id=\"T_c80e73ab_81ec_11eb_9b6f_18c04d3d4ff4row8_col0\" class=\"data row8 col0\" >0.18</td>\n",
       "                        <td id=\"T_c80e73ab_81ec_11eb_9b6f_18c04d3d4ff4row8_col1\" class=\"data row8 col1\" >0.25</td>\n",
       "                        <td id=\"T_c80e73ab_81ec_11eb_9b6f_18c04d3d4ff4row8_col2\" class=\"data row8 col2\" >0.28</td>\n",
       "                        <td id=\"T_c80e73ab_81ec_11eb_9b6f_18c04d3d4ff4row8_col3\" class=\"data row8 col3\" >0.08</td>\n",
       "                        <td id=\"T_c80e73ab_81ec_11eb_9b6f_18c04d3d4ff4row8_col4\" class=\"data row8 col4\" >0.24</td>\n",
       "                        <td id=\"T_c80e73ab_81ec_11eb_9b6f_18c04d3d4ff4row8_col5\" class=\"data row8 col5\" >0.27</td>\n",
       "                        <td id=\"T_c80e73ab_81ec_11eb_9b6f_18c04d3d4ff4row8_col6\" class=\"data row8 col6\" >0.26</td>\n",
       "                        <td id=\"T_c80e73ab_81ec_11eb_9b6f_18c04d3d4ff4row8_col7\" class=\"data row8 col7\" >0.36</td>\n",
       "                        <td id=\"T_c80e73ab_81ec_11eb_9b6f_18c04d3d4ff4row8_col8\" class=\"data row8 col8\" >1.00</td>\n",
       "            </tr>\n",
       "    </tbody></table>"
      ],
      "text/plain": [
       "<pandas.io.formats.style.Styler at 0x24906d59880>"
      ]
     },
     "execution_count": 3,
     "metadata": {},
     "output_type": "execute_result"
    }
   ],
   "source": [
    "salesCorrelations = sales.corr()\n",
    "salesCorrelations.style.background_gradient(cmap='coolwarm', axis=None).set_precision(2)"
   ]
  },
  {
   "cell_type": "markdown",
   "metadata": {},
   "source": [
    "<font color='blue'><b><i>There is a strong postivite correlation between NA sales + EU sales, and Global sales. This probably means that a large majority of sold games are sold in the NA and EU."
   ]
  },
  {
   "cell_type": "code",
   "execution_count": 4,
   "metadata": {},
   "outputs": [
    {
     "name": "stdout",
     "output_type": "stream",
     "text": [
      "NA_Sales & Global_Sales\n"
     ]
    },
    {
     "data": {
      "image/png": "[encoded data removed]",
      "text/plain": [
       "<Figure size 432x288 with 1 Axes>"
      ]
     },
     "metadata": {
      "needs_background": "light"
     },
     "output_type": "display_data"
    }
   ],
   "source": [
    "sales.plot(kind='scatter', x='NA_Sales', y='Global_Sales')\n",
    "print(\"NA_Sales & Global_Sales\")"
   ]
  },
  {
   "cell_type": "code",
   "execution_count": 5,
   "metadata": {},
   "outputs": [
    {
     "name": "stdout",
     "output_type": "stream",
     "text": [
      "EU_Sales & Global_Sales\n"
     ]
    },
    {
     "data": {
      "image/png": "[encoded data removed]",
      "text/plain": [
       "<Figure size 432x288 with 1 Axes>"
      ]
     },
     "metadata": {
      "needs_background": "light"
     },
     "output_type": "display_data"
    }
   ],
   "source": [
    "sales.plot(kind='scatter', x='EU_Sales', y='Global_Sales')\n",
    "print(\"EU_Sales & Global_Sales\")"
   ]
  },
  {
   "cell_type": "code",
   "execution_count": null,
   "metadata": {},
   "outputs": [],
   "source": []
  }
 ],
 "metadata": {
  "kernelspec": {
   "display_name": "Python 3",
   "language": "python",
   "name": "python3"
  },
  "language_info": {
   "codemirror_mode": {
    "name": "ipython",
    "version": 3
   },
   "file_extension": ".py",
   "mimetype": "text/x-python",
   "name": "python",
   "nbconvert_exporter": "python",
   "pygments_lexer": "ipython3",
   "version": "3.8.5"
  }
 },
 "nbformat": 4,
 "nbformat_minor": 4
}
